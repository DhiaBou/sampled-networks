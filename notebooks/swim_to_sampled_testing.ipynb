{
 "cells": [
  {
   "cell_type": "code",
   "execution_count": null,
   "metadata": {},
   "outputs": [],
   "source": [
    "\n",
    "from sklearn import preprocessing\n",
    "from sklearn.pipeline import Pipeline\n",
    "from swimnetworks import Dense, Linear\n",
    "\n",
    "from view.visualizer import *"
   ]
  },
  {
   "cell_type": "code",
   "execution_count": null,
   "metadata": {},
   "outputs": [],
   "source": [
    "xd = 2  # Input space dimensions\n",
    "yd = 4  # Output dimension\n",
    "num_samples = 1000  # Number of data points\n",
    "\n",
    "dataset = Dataset()\n",
    "dataset.create_dataset_sinus_2d(num_samples)\n",
    "dataset.scale(preprocessing.MinMaxScaler())\n",
    "dataset.split_train_test(0.2)"
   ]
  },
  {
   "cell_type": "code",
   "execution_count": null,
   "metadata": {},
   "outputs": [],
   "source": [
    "steps = [\n",
    "    (\n",
    "        \"dense\",\n",
    "        Dense(layer_width=512, activation=\"relu\", parameter_sampler=\"relu\", random_seed=42),\n",
    "    ),\n",
    "    (\"linear\", Linear(regularization_scale=1e-10)),\n",
    "]\n",
    "model_swim = Pipeline(steps)\n",
    "\n",
    "model_swim.fit(dataset.X_train, dataset.y_train)\n",
    "\n",
    "model_swim_base = BaseModel()\n",
    "model_swim_base.weights = [\n",
    "    model_swim.get_params()[\"steps\"][0][1].weights,\n",
    "    model_swim.get_params()[\"steps\"][1][1].weights,\n",
    "]\n",
    "model_swim_base.biases = [\n",
    "    -model_swim.get_params()[\"steps\"][0][1].biases[0],\n",
    "    -model_swim.get_params()[\"steps\"][1][1].biases[0],\n",
    "]\n",
    "\n",
    "y_predict = model_swim_base.predict(dataset.X_test)\n",
    "y_swim = model_swim.predict(dataset.X_test)\n",
    "\n",
    "print(f\"Predictions from 'model_base' and 'model_swim' are equal: {np.array_equal(y_predict, y_swim)}\")"
   ]
  },
  {
   "cell_type": "code",
   "execution_count": null,
   "metadata": {},
   "outputs": [],
   "source": [
    "model_sampled = SampledNet()\n",
    "model_sampled.fit(dataset.X_train, _, model_swim_base, radius=0, layer2=\"classic\")\n",
    "\n",
    "y_sampled = model_sampled.predict(dataset.X_test)\n",
    "print(loss_mse(y_predict, y_sampled))\n",
    "\n",
    "plot_weight_biases_differences(model_sampled.weights[0], model_swim_base.weights[0], model_sampled.biases[0],\n",
    "                               model_swim_base.biases[0])\n",
    "plot_weight_biases_differences(model_sampled.weights[1], model_swim_base.weights[1], model_sampled.biases[1],\n",
    "                               model_swim_base.biases[1])\n",
    "visualize_data(y_swim, y_sampled, \"y_swim\", \"y_sampled\")"
   ]
  },
  {
   "cell_type": "code",
   "execution_count": null,
   "outputs": [],
   "source": [],
   "metadata": {
    "collapsed": false
   }
  }
 ],
 "metadata": {
  "kernelspec": {
   "display_name": "Python 3",
   "language": "python",
   "name": "python3"
  },
  "language_info": {
   "codemirror_mode": {
    "name": "ipython",
    "version": 3
   },
   "file_extension": ".py",
   "mimetype": "text/x-python",
   "name": "python",
   "nbconvert_exporter": "python",
   "pygments_lexer": "ipython3",
   "version": "3.11.4"
  }
 },
 "nbformat": 4,
 "nbformat_minor": 2
}
