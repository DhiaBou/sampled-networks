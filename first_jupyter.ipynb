{
 "cells": [
  {
   "cell_type": "code",
   "execution_count": 192,
   "metadata": {},
   "outputs": [
    {
     "data": {
      "text/plain": [
       "<module 'logic' from 'c:\\\\Users\\\\daydo\\\\OneDrive\\\\Dokumente\\\\banew\\\\logic.py'>"
      ]
     },
     "execution_count": 192,
     "metadata": {},
     "output_type": "execute_result"
    }
   ],
   "source": [
    "from sklearn import preprocessing\n",
    "\n",
    "from dataset import *\n",
    "from base_model import *\n",
    "from neural_net import *\n",
    "from sampled_net import *\n",
    "from visualisator import *\n",
    "from logic import *\n",
    "import dataset\n",
    "import base_model\n",
    "import neural_net\n",
    "import sampled_net\n",
    "import visualisator\n",
    "import logic\n",
    "\n",
    "import importlib\n",
    "importlib.reload(dataset)\n",
    "importlib.reload(base_model)\n",
    "importlib.reload(neural_net)\n",
    "importlib.reload(sampled_net)\n",
    "importlib.reload(visualisator)\n",
    "importlib.reload(logic)\n",
    "\n"
   ]
  },
  {
   "cell_type": "code",
   "execution_count": 193,
   "metadata": {},
   "outputs": [],
   "source": [
    "xd = 4  # Input space dimensions\n",
    "yd = 4  # Output dimension\n",
    "num_samples = 1000  # Number of data points\n",
    "epochs = 100  # Number of training epochs\n",
    "l = [200]  # Number of neurons in each layer\n",
    "\n",
    "\n",
    "dataset = Dataset()\n",
    "dataset.create_dataset_Barron(xd, num_samples)\n",
    "dataset.scale(preprocessing.MinMaxScaler())\n",
    "dataset.split_train_test(0.2)"
   ]
  },
  {
   "cell_type": "code",
   "execution_count": 194,
   "metadata": {},
   "outputs": [],
   "source": [
    "model_nn = NeuralNet()\n",
    "model_nn.fit(dataset.X_train, dataset.y_train, l, validation_split=0.2, epochs=epochs)\n"
   ]
  },
  {
   "cell_type": "code",
   "execution_count": 197,
   "metadata": {},
   "outputs": [
    {
     "name": "stdout",
     "output_type": "stream",
     "text": [
      "\n",
      "radius: 0.000\n"
     ]
    },
    {
     "name": "stderr",
     "output_type": "stream",
     "text": [
      "  0%|          | 0/200 [00:00<?, ?it/s]"
     ]
    },
    {
     "name": "stderr",
     "output_type": "stream",
     "text": [
      "100%|██████████| 200/200 [00:00<00:00, 3871.11it/s]\n"
     ]
    },
    {
     "name": "stdout",
     "output_type": "stream",
     "text": [
      "alpha \tloss\n",
      "0.0001 \t1.806e-02\n",
      "0.001 \t1.386e-02\n",
      "0.01 \t1.360e-02\n",
      "0.1 \t1.368e-02\n",
      "1 \t1.370e-02\n",
      "10 \t1.378e-02\n",
      "100 \t1.523e-02\n",
      "\n",
      "radius: 0.204\n"
     ]
    },
    {
     "name": "stderr",
     "output_type": "stream",
     "text": [
      "100%|██████████| 200/200 [00:00<00:00, 1990.18it/s]"
     ]
    },
    {
     "name": "stdout",
     "output_type": "stream",
     "text": [
      "alpha \tloss\n",
      "0.0001 \t2.459e-02\n",
      "0.001 \t1.107e-02\n",
      "0.01 \t1.082e-02\n"
     ]
    },
    {
     "name": "stderr",
     "output_type": "stream",
     "text": [
      "\n"
     ]
    },
    {
     "name": "stdout",
     "output_type": "stream",
     "text": [
      "0.1 \t1.143e-02\n",
      "1 \t1.263e-02\n",
      "10 \t1.339e-02\n",
      "100 \t1.387e-02\n",
      "\n",
      "radius: 0.408\n"
     ]
    },
    {
     "name": "stderr",
     "output_type": "stream",
     "text": [
      "100%|██████████| 200/200 [00:00<00:00, 376.92it/s]\n"
     ]
    },
    {
     "name": "stdout",
     "output_type": "stream",
     "text": [
      "alpha \tloss\n",
      "0.0001 \t6.026e-03\n",
      "0.001 \t5.301e-03\n",
      "0.01 \t4.852e-03\n",
      "0.1 \t5.656e-03\n",
      "1 \t8.579e-03\n",
      "10 \t1.121e-02\n",
      "100 \t1.289e-02\n",
      "\n",
      "radius: 0.612\n"
     ]
    },
    {
     "name": "stderr",
     "output_type": "stream",
     "text": [
      "100%|██████████| 200/200 [00:01<00:00, 116.25it/s]\n"
     ]
    },
    {
     "name": "stdout",
     "output_type": "stream",
     "text": [
      "alpha \tloss\n",
      "0.0001 \t1.901e-03\n",
      "0.001 \t1.530e-03\n",
      "0.01 \t1.254e-03\n",
      "0.1 \t1.832e-03\n",
      "1 \t3.722e-03\n",
      "10 \t7.340e-03\n",
      "100 \t1.047e-02\n",
      "\n",
      "radius: 0.817\n"
     ]
    },
    {
     "name": "stderr",
     "output_type": "stream",
     "text": [
      "100%|██████████| 200/200 [00:04<00:00, 47.93it/s]\n"
     ]
    },
    {
     "name": "stdout",
     "output_type": "stream",
     "text": [
      "alpha \tloss\n",
      "0.0001 \t1.389e-03\n",
      "0.001 \t1.070e-03\n",
      "0.01 \t9.567e-04\n",
      "0.1 \t1.367e-03\n",
      "1 \t2.893e-03\n",
      "10 \t6.527e-03\n",
      "100 \t1.014e-02\n",
      "\n",
      "radius: 1.021\n"
     ]
    },
    {
     "name": "stderr",
     "output_type": "stream",
     "text": [
      "100%|██████████| 200/200 [00:07<00:00, 27.26it/s]\n"
     ]
    },
    {
     "name": "stdout",
     "output_type": "stream",
     "text": [
      "alpha \tloss\n",
      "0.0001 \t9.969e-04\n",
      "0.001 \t9.682e-04\n",
      "0.01 \t9.627e-04\n",
      "0.1 \t1.282e-03\n",
      "1 \t2.532e-03\n",
      "10 \t6.349e-03\n",
      "100 \t1.022e-02\n",
      "\n",
      "radius: 1.225\n"
     ]
    },
    {
     "name": "stderr",
     "output_type": "stream",
     "text": [
      "100%|██████████| 200/200 [00:10<00:00, 18.57it/s]\n"
     ]
    },
    {
     "name": "stdout",
     "output_type": "stream",
     "text": [
      "alpha \tloss\n",
      "0.0001 \t8.916e-04\n",
      "0.001 \t8.790e-04\n",
      "0.01 \t9.484e-04\n",
      "0.1 \t1.331e-03\n",
      "1 \t2.655e-03\n",
      "10 \t6.250e-03\n",
      "100 \t1.028e-02\n",
      "\n",
      "radius: 1.429\n"
     ]
    },
    {
     "name": "stderr",
     "output_type": "stream",
     "text": [
      "100%|██████████| 200/200 [00:12<00:00, 15.78it/s]\n"
     ]
    },
    {
     "name": "stdout",
     "output_type": "stream",
     "text": [
      "alpha \tloss\n",
      "0.0001 \t8.555e-04\n",
      "0.001 \t8.588e-04\n",
      "0.01 \t9.282e-04\n",
      "0.1 \t1.297e-03\n",
      "1 \t2.602e-03\n",
      "10 \t6.182e-03\n",
      "100 \t1.031e-02\n",
      "\n",
      "radius: 1.633\n"
     ]
    },
    {
     "name": "stderr",
     "output_type": "stream",
     "text": [
      "100%|██████████| 200/200 [00:12<00:00, 15.63it/s]\n"
     ]
    },
    {
     "name": "stdout",
     "output_type": "stream",
     "text": [
      "alpha \tloss\n",
      "0.0001 \t8.555e-04\n",
      "0.001 \t8.588e-04\n",
      "0.01 \t9.282e-04\n",
      "0.1 \t1.297e-03\n",
      "1 \t2.602e-03\n",
      "10 \t6.182e-03\n",
      "100 \t1.031e-02\n",
      "\n",
      "radius: 1.837\n"
     ]
    },
    {
     "name": "stderr",
     "output_type": "stream",
     "text": [
      "100%|██████████| 200/200 [00:11<00:00, 16.78it/s]"
     ]
    },
    {
     "name": "stdout",
     "output_type": "stream",
     "text": [
      "alpha \tloss\n",
      "0.0001 \t8.555e-04\n",
      "0.001 \t8.588e-04\n",
      "0.01 \t9.282e-04\n",
      "0.1 \t1.297e-03\n",
      "1 \t2.602e-03\n",
      "10 \t6.182e-03\n",
      "100 \t1.031e-02\n",
      "loss y_nn and y_test      \t0.005426243549918735\n",
      "loss y_sampled and y_test \t0.0009471427463736428\n"
     ]
    },
    {
     "name": "stderr",
     "output_type": "stream",
     "text": [
      "\n"
     ]
    }
   ],
   "source": [
    "model_sampled = SampledNet()\n",
    "alpha, radius = model_sampled.fit(dataset.X_train, dataset.y_train, model_nn, layer2=\"ridge\", radius=-1, alpha=-1)\n",
    "\n",
    "y_nn = model_nn.predict(dataset.X_test)\n",
    "y_sampled = model_sampled.predict(dataset.X_test)\n",
    "\n",
    "print(f\"loss y_nn and y_test      \\t{sklearn.metrics.mean_squared_error(y_nn, dataset.y_test)}\")\n",
    "print(f\"loss y_sampled and y_test \\t{sklearn.metrics.mean_squared_error(y_sampled, dataset.y_test)}\")\n"
   ]
  },
  {
   "cell_type": "code",
   "execution_count": 207,
   "metadata": {},
   "outputs": [
    {
     "data": {
      "image/png": "[encoded data removed]",
      "text/plain": [
       "<Figure size 640x480 with 1 Axes>"
      ]
     },
     "metadata": {},
     "output_type": "display_data"
    },
    {
     "data": {
      "image/png": "[encoded data removed]",
      "text/plain": [
       "<Figure size 640x480 with 1 Axes>"
      ]
     },
     "metadata": {},
     "output_type": "display_data"
    },
    {
     "ename": "TypeError",
     "evalue": "'Axes' object is not subscriptable",
     "output_type": "error",
     "traceback": [
      "\u001b[1;31m---------------------------------------------------------------------------\u001b[0m",
      "\u001b[1;31mTypeError\u001b[0m                                 Traceback (most recent call last)",
      "Cell \u001b[1;32mIn[207], line 20\u001b[0m\n\u001b[0;32m     18\u001b[0m     plt\u001b[39m.\u001b[39mtight_layout()\n\u001b[0;32m     19\u001b[0m     plt\u001b[39m.\u001b[39mshow()\n\u001b[1;32m---> 20\u001b[0m plot_ys(dataset\u001b[39m.\u001b[39;49my_test, y_sampled)\n",
      "Cell \u001b[1;32mIn[207], line 12\u001b[0m, in \u001b[0;36mplot_ys\u001b[1;34m(y_test, y_predicted)\u001b[0m\n\u001b[0;32m      9\u001b[0m fig, axes \u001b[39m=\u001b[39m plt\u001b[39m.\u001b[39msubplots(num_features, figsize\u001b[39m=\u001b[39m(\u001b[39m10\u001b[39m, num_features \u001b[39m*\u001b[39m \u001b[39m5\u001b[39m))\n\u001b[0;32m     11\u001b[0m \u001b[39mfor\u001b[39;00m i \u001b[39min\u001b[39;00m \u001b[39mrange\u001b[39m(num_features):\n\u001b[1;32m---> 12\u001b[0m     axes[i]\u001b[39m.\u001b[39mscatter(y_test[:, i], y_predicted[:, i])\n\u001b[0;32m     13\u001b[0m     axes[i]\u001b[39m.\u001b[39mplot([np\u001b[39m.\u001b[39mmin(y_test[:, i]), np\u001b[39m.\u001b[39mmax(y_test[:, i])], [np\u001b[39m.\u001b[39mmin(y_test[:, i]), np\u001b[39m.\u001b[39mmax(y_test[:, i])], color\u001b[39m=\u001b[39m\u001b[39m'\u001b[39m\u001b[39mred\u001b[39m\u001b[39m'\u001b[39m) \u001b[39m# y=x line\u001b[39;00m\n\u001b[0;32m     14\u001b[0m     axes[i]\u001b[39m.\u001b[39mset_xlabel(\u001b[39m'\u001b[39m\u001b[39my_test\u001b[39m\u001b[39m'\u001b[39m)\n",
      "\u001b[1;31mTypeError\u001b[0m: 'Axes' object is not subscriptable"
     ]
    },
    {
     "data": {
      "image/png": "[encoded data removed]",
      "text/plain": [
       "<Figure size 1000x500 with 1 Axes>"
      ]
     },
     "metadata": {},
     "output_type": "display_data"
    }
   ],
   "source": [
    "plot_vector_differences(np.transpose(model_nn.weights[0]), np.transpose(model_sampled.weights[0]))\n",
    "visualize_data(dataset.y_test, y_sampled)\n"
   ]
  },
  {
   "cell_type": "code",
   "execution_count": null,
   "metadata": {},
   "outputs": [],
   "source": [
    "mses = loss_f_alpha_radius_mse(dataset, model_nn)\n",
    "plot_loss_f_alpha_radius_mse(mses)"
   ]
  }
 ],
 "metadata": {
  "kernelspec": {
   "display_name": "Python 3",
   "language": "python",
   "name": "python3"
  },
  "language_info": {
   "codemirror_mode": {
    "name": "ipython",
    "version": 3
   },
   "file_extension": ".py",
   "mimetype": "text/x-python",
   "name": "python",
   "nbconvert_exporter": "python",
   "pygments_lexer": "ipython3",
   "version": "3.11.4"
  },
  "orig_nbformat": 4
 },
 "nbformat": 4,
 "nbformat_minor": 2
}
