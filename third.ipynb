{
 "cells": [
  {
   "cell_type": "code",
   "execution_count": 96,
   "metadata": {},
   "outputs": [
    {
     "data": {
      "text/plain": [
       "<module 'logic' from 'c:\\\\Users\\\\daydo\\\\OneDrive\\\\Dokumente\\\\sampled-networks\\\\logic.py'>"
      ]
     },
     "execution_count": 96,
     "metadata": {},
     "output_type": "execute_result"
    }
   ],
   "source": [
    "from sklearn import preprocessing\n",
    "\n",
    "from dataset import *\n",
    "from models.base_model import *\n",
    "from models.neural_net import *\n",
    "from models.sampled_net import *\n",
    "from viewer.visualisator import *\n",
    "from logic import *\n",
    "import dataset\n",
    "import models.base_model\n",
    "import models.neural_net\n",
    "import models.sampled_net\n",
    "import viewer.visualisator\n",
    "import logic\n",
    "\n",
    "import importlib\n",
    "from sklearn.pipeline import Pipeline\n",
    "from swimnetworks import Dense, Linear\n",
    "\n",
    "importlib.reload(dataset)\n",
    "importlib.reload(models.base_model)\n",
    "importlib.reload(models.neural_net)\n",
    "importlib.reload(models.sampled_net)\n",
    "importlib.reload(viewer.visualisator)\n",
    "importlib.reload(logic)"
   ]
  },
  {
   "cell_type": "code",
   "execution_count": 97,
   "metadata": {},
   "outputs": [
    {
     "data": {
      "text/plain": [
       "<dataset.Dataset at 0x29a444b7790>"
      ]
     },
     "execution_count": 97,
     "metadata": {},
     "output_type": "execute_result"
    }
   ],
   "source": [
    "xd = 2  # Input space dimensions\n",
    "yd = 4  # Output dimension\n",
    "num_samples = 1000  # Number of data points\n",
    "epochs = 100  # Number of training epochs\n",
    "l = [200]  # Number of neurons in each layer\n",
    "\n",
    "\n",
    "dataset = Dataset()\n",
    "dataset.create_dataset_Barron(xd, num_samples)\n",
    "dataset.scale(preprocessing.MinMaxScaler())\n",
    "dataset.split_train_test(0.2)"
   ]
  },
  {
   "cell_type": "code",
   "execution_count": 98,
   "metadata": {},
   "outputs": [
    {
     "name": "stdout",
     "output_type": "stream",
     "text": [
      "0.0035470236094513963\n",
      "0.0035470236094513963\n"
     ]
    }
   ],
   "source": [
    "steps = [\n",
    "    (\n",
    "        \"dense\",\n",
    "        Dense(\n",
    "            layer_width=20, activation=\"relu\", parameter_sampler=\"relu\", random_seed=42\n",
    "        ),\n",
    "    ),\n",
    "    (\"linear\", Linear(regularization_scale=1e-10)),\n",
    "]\n",
    "model = Pipeline(steps)\n",
    "\n",
    "model.fit(dataset.X_train, dataset.y_train)\n",
    "\n",
    "model_s = SampledNet()\n",
    "model_s.weights = [\n",
    "    model.get_params()[\"steps\"][0][1].weights,\n",
    "    model.get_params()[\"steps\"][1][1].weights,\n",
    "]\n",
    "model_s.biases = [\n",
    "    -model.get_params()[\"steps\"][0][1].biases,\n",
    "    -model.get_params()[\"steps\"][1][1].biases,\n",
    "]\n",
    "\n",
    "ysampled = model_s.predict(dataset.X_train)\n",
    "print(loss_mse(ysampled, dataset.y_train))\n",
    "\n",
    "yswim = model.predict(dataset.X_train)\n",
    "print(loss_mse(yswim, dataset.y_train))\n",
    "\n",
    "# model.transform(dataset.X_test)"
   ]
  },
  {
   "cell_type": "code",
   "execution_count": 99,
   "metadata": {},
   "outputs": [
    {
     "name": "stderr",
     "output_type": "stream",
     "text": [
      "Layer1 sampling:   0%|          | 0/20 [00:00<?, ?it/s]\n"
     ]
    },
    {
     "ename": "ValueError",
     "evalue": "operands could not be broadcast together with shapes (800,) (20,) ",
     "output_type": "error",
     "traceback": [
      "\u001b[1;31m---------------------------------------------------------------------------\u001b[0m",
      "\u001b[1;31mValueError\u001b[0m                                Traceback (most recent call last)",
      "Cell \u001b[1;32mIn[99], line 1\u001b[0m\n\u001b[1;32m----> 1\u001b[0m compute_weights_biases_layer1(dataset\u001b[39m.\u001b[39;49mX_train, dataset\u001b[39m.\u001b[39;49my_train, model_s\u001b[39m.\u001b[39;49mweights, model_s\u001b[39m.\u001b[39;49mbiases)\n",
      "File \u001b[1;32mc:\\Users\\daydo\\OneDrive\\Dokumente\\sampled-networks\\logic.py:117\u001b[0m, in \u001b[0;36mcompute_weights_biases_layer1\u001b[1;34m(X, y, weights, biases, radius)\u001b[0m\n\u001b[0;32m    115\u001b[0m biases_l1 \u001b[39m=\u001b[39m []\n\u001b[0;32m    116\u001b[0m \u001b[39mfor\u001b[39;00m i \u001b[39min\u001b[39;00m tqdm(\u001b[39mrange\u001b[39m(N1), desc\u001b[39m=\u001b[39m\u001b[39m\"\u001b[39m\u001b[39mLayer1 sampling: \u001b[39m\u001b[39m\"\u001b[39m):\n\u001b[1;32m--> 117\u001b[0m     x_1, x_2 \u001b[39m=\u001b[39m choose_x1_x2_lowest_activation(X, weights[\u001b[39m0\u001b[39;49m][:, i], biases[\u001b[39m0\u001b[39;49m][i], radius)\n\u001b[0;32m    118\u001b[0m     w1i_hat \u001b[39m=\u001b[39m (x_2 \u001b[39m-\u001b[39m x_1) \u001b[39m/\u001b[39m (np\u001b[39m.\u001b[39mlinalg\u001b[39m.\u001b[39mnorm(x_2 \u001b[39m-\u001b[39m x_1)) \u001b[39m*\u001b[39m\u001b[39m*\u001b[39m \u001b[39m2\u001b[39m\n\u001b[0;32m    119\u001b[0m     b1_hat \u001b[39m=\u001b[39m np\u001b[39m.\u001b[39mdot(x_1, w1i_hat)\n",
      "File \u001b[1;32mc:\\Users\\daydo\\OneDrive\\Dokumente\\sampled-networks\\logic.py:40\u001b[0m, in \u001b[0;36mchoose_x1_x2_lowest_activation\u001b[1;34m(X, weight, bias, radius)\u001b[0m\n\u001b[0;32m     38\u001b[0m \u001b[39mif\u001b[39;00m radius \u001b[39m<\u001b[39m \u001b[39m0\u001b[39m:\n\u001b[0;32m     39\u001b[0m     \u001b[39mraise\u001b[39;00m \u001b[39mValueError\u001b[39;00m(\u001b[39mf\u001b[39m\u001b[39m\"\u001b[39m\u001b[39m{\u001b[39;00mradius\u001b[39m}\u001b[39;00m\u001b[39m Expected to be non negative\u001b[39m\u001b[39m\"\u001b[39m)\n\u001b[1;32m---> 40\u001b[0m x_min_activation \u001b[39m=\u001b[39m X[np\u001b[39m.\u001b[39margmin(np\u001b[39m.\u001b[39;49mdot(X, weight) \u001b[39m-\u001b[39;49m bias)]\n\u001b[0;32m     41\u001b[0m distances_to_xmin \u001b[39m=\u001b[39m np\u001b[39m.\u001b[39mlinalg\u001b[39m.\u001b[39mnorm(X \u001b[39m-\u001b[39m x_min_activation, axis\u001b[39m=\u001b[39m\u001b[39m1\u001b[39m)\n\u001b[0;32m     42\u001b[0m X_closest_indices \u001b[39m=\u001b[39m np\u001b[39m.\u001b[39mwhere(distances_to_xmin \u001b[39m<\u001b[39m\u001b[39m=\u001b[39m radius)[\u001b[39m0\u001b[39m]\n",
      "\u001b[1;31mValueError\u001b[0m: operands could not be broadcast together with shapes (800,) (20,) "
     ]
    }
   ],
   "source": [
    "compute_weights_biases_layer1(dataset.X_train, dataset.y_train, model_s.weights, model_s.biases)"
   ]
  }
 ],
 "metadata": {
  "kernelspec": {
   "display_name": "Python 3",
   "language": "python",
   "name": "python3"
  },
  "language_info": {
   "codemirror_mode": {
    "name": "ipython",
    "version": 3
   },
   "file_extension": ".py",
   "mimetype": "text/x-python",
   "name": "python",
   "nbconvert_exporter": "python",
   "pygments_lexer": "ipython3",
   "version": "3.11.4"
  },
  "orig_nbformat": 4
 },
 "nbformat": 4,
 "nbformat_minor": 2
}
